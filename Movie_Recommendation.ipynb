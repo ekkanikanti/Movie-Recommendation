{
  "cells": [
    {
      "cell_type": "markdown",
      "metadata": {
        "id": "Hr7SGYEq69wv"
      },
      "source": [
        "# ITCS 6162: Data Mining - Programming Assignment"
      ]
    },
    {
      "cell_type": "markdown",
      "metadata": {
        "id": "L_idzFtE7M_9"
      },
      "source": [
        "**In this assignment, you will explore data analysis, recommendation algorithms, and graph-based techniques using the MovieLens dataset. Your tasks will range from basic data exploration to advanced recommendation models, including:**\n",
        "- Data manipulation with pandas\n",
        "- User-item collaborative filtering\n",
        "- Similarity-based recommendation models\n",
        "- A Pixie-inspired Graph-based recommendation using adjacency lists with weighted random walks (without using NetworkX)\n"
      ]
    },
    {
      "cell_type": "markdown",
      "metadata": {
        "id": "EZxjOF_l79zc"
      },
      "source": [
        "#### **Dataset Files:**\n",
        "- **`u.data`**: User-movie ratings (`user_id  movie_id  rating  timestamp`)\n",
        "- **`u.item`**: Movie metadata (`movie_id | title | release date | IMDB_website`)\n",
        "- **`u.user`**: User demographics (`user_id | age | gender | occupation | zip_code`)"
      ]
    },
    {
      "cell_type": "markdown",
      "metadata": {
        "id": "ytr6isc2F9g6"
      },
      "source": [
        "## **Part 1: Exploring and Cleaning Data**"
      ]
    },
    {
      "cell_type": "markdown",
      "metadata": {
        "id": "87kIrhTC9Ba1"
      },
      "source": [
        "### Inspecting the Dataset Format\n",
        "\n",
        "The dataset is not in a traditional CSV format. To examine its structure, use the following shell command to display the first 10 lines of the file:\n",
        "\n",
        "```sh\n",
        "!head <file_name>\n"
      ]
    },
    {
      "cell_type": "markdown",
      "metadata": {
        "id": "PjOtbBWM9xWv"
      },
      "source": [
        "**In the cells given below. Write the code to read the files.**"
      ]
    },
    {
      "cell_type": "code",
      "execution_count": 16,
      "metadata": {
        "id": "XOoSaKsq68nD"
      },
      "outputs": [
        {
          "name": "stdout",
          "output_type": "stream",
          "text": [
            "196\t242\t3\t881250949\n",
            "186\t302\t3\t891717742\n",
            "22\t377\t1\t878887116\n",
            "244\t51\t2\t880606923\n",
            "166\t346\t1\t886397596\n",
            "298\t474\t4\t884182806\n",
            "115\t265\t2\t881171488\n",
            "253\t465\t5\t891628467\n",
            "305\t451\t3\t886324817\n",
            "6\t86\t3\t883603013\n"
          ]
        }
      ],
      "source": [
        "# u.data\n",
        "with open (\"u.data\", \"r\") as file:\n",
        "  lines = file.readlines()\n",
        "  for line in range(10):\n",
        "    print(lines[line].strip())"
      ]
    },
    {
      "cell_type": "code",
      "execution_count": 41,
      "metadata": {
        "id": "dckMko0o9t-D"
      },
      "outputs": [
        {
          "name": "stdout",
          "output_type": "stream",
          "text": [
            "1|Toy Story (1995)|01-Jan-1995||http://us.imdb.com/M/title-exact?Toy%20Story%20(1995)|0|0|0|1|1|1|0|0|0|0|0|0|0|0|0|0|0|0|0\n",
            "2|GoldenEye (1995)|01-Jan-1995||http://us.imdb.com/M/title-exact?GoldenEye%20(1995)|0|1|1|0|0|0|0|0|0|0|0|0|0|0|0|0|1|0|0\n",
            "3|Four Rooms (1995)|01-Jan-1995||http://us.imdb.com/M/title-exact?Four%20Rooms%20(1995)|0|0|0|0|0|0|0|0|0|0|0|0|0|0|0|0|1|0|0\n",
            "4|Get Shorty (1995)|01-Jan-1995||http://us.imdb.com/M/title-exact?Get%20Shorty%20(1995)|0|1|0|0|0|1|0|0|1|0|0|0|0|0|0|0|0|0|0\n",
            "5|Copycat (1995)|01-Jan-1995||http://us.imdb.com/M/title-exact?Copycat%20(1995)|0|0|0|0|0|0|1|0|1|0|0|0|0|0|0|0|1|0|0\n",
            "6|Shanghai Triad (Yao a yao yao dao waipo qiao) (1995)|01-Jan-1995||http://us.imdb.com/Title?Yao+a+yao+yao+dao+waipo+qiao+(1995)|0|0|0|0|0|0|0|0|1|0|0|0|0|0|0|0|0|0|0\n",
            "7|Twelve Monkeys (1995)|01-Jan-1995||http://us.imdb.com/M/title-exact?Twelve%20Monkeys%20(1995)|0|0|0|0|0|0|0|0|1|0|0|0|0|0|0|1|0|0|0\n",
            "8|Babe (1995)|01-Jan-1995||http://us.imdb.com/M/title-exact?Babe%20(1995)|0|0|0|0|1|1|0|0|1|0|0|0|0|0|0|0|0|0|0\n",
            "9|Dead Man Walking (1995)|01-Jan-1995||http://us.imdb.com/M/title-exact?Dead%20Man%20Walking%20(1995)|0|0|0|0|0|0|0|0|1|0|0|0|0|0|0|0|0|0|0\n",
            "10|Richard III (1995)|22-Jan-1996||http://us.imdb.com/M/title-exact?Richard%20III%20(1995)|0|0|0|0|0|0|0|0|1|0|0|0|0|0|0|0|0|1|0\n"
          ]
        }
      ],
      "source": [
        "# u.item\n",
        "with open (\"u.item\", \"r\") as file:\n",
        "  count = 0\n",
        "  for line in file:\n",
        "    count += 1\n",
        "    print(line.strip())\n",
        "    if count >= 10:\n",
        "      break"
      ]
    },
    {
      "cell_type": "code",
      "execution_count": 20,
      "metadata": {
        "id": "R7kBwpsi-WKB"
      },
      "outputs": [
        {
          "name": "stdout",
          "output_type": "stream",
          "text": [
            "1|24|M|technician|85711\n",
            "2|53|F|other|94043\n",
            "3|23|M|writer|32067\n",
            "4|24|M|technician|43537\n",
            "5|33|F|other|15213\n",
            "6|42|M|executive|98101\n",
            "7|57|M|administrator|91344\n",
            "8|36|M|administrator|05201\n",
            "9|29|M|student|01002\n",
            "10|53|M|lawyer|90703\n"
          ]
        }
      ],
      "source": [
        "# u.user\n",
        "with open (\"u.user\", \"r\") as file:\n",
        "  lines = file.readlines()\n",
        "  for line in range(10):\n",
        "    print(lines[line].strip())"
      ]
    },
    {
      "cell_type": "markdown",
      "metadata": {
        "id": "YnryIHO7-db3"
      },
      "source": [
        "#### Loading the Dataset with Pandas"
      ]
    },
    {
      "cell_type": "markdown",
      "metadata": {
        "id": "Jwmza7riBj30"
      },
      "source": [
        "Use **pandas** to load the dataset into a DataFrame for analysis. Follow these steps:  \n",
        "\n",
        "1. Import the necessary library: `pandas`.  \n",
        "2. Use `pd.read_csv()` (or an appropriate function) to read the dataset file.  \n",
        "3. Ensure the dataset is loaded with the correct delimiter (e.g., `','`, `'\\t'`,`'|'` , or another separator if needed).  \n",
        "4. Select and display the first few rows using `.head()`."
      ]
    },
    {
      "cell_type": "markdown",
      "metadata": {
        "id": "KPEDYYGOBOSD"
      },
      "source": [
        "Ensure that:  \n",
        "\n",
        "- The `ratings` dataset is read from `\"u.data\"` using tab (`'\\t'`) as a separator and column names (`\"user_id\"`, `\"movie_id\"`, `\"rating\"` and `\"timestamp\"`).  \n",
        "- The `movies` dataset is read from `\"u.item\"` using `'|'` as a separator, use columns (`0`, `1`, `2`), encoding (`\"latin-1\"`) and name the columns (`movie_id`, `title`, and `release_date`).  \n",
        "- The `users` dataset is read from `\"u.user\"` using `'|'` as a separator, use columns (`0`, `1`, `2`, `3`) and name the columns (`user_id`, `age`, `gender`, and `occupation`)."
      ]
    },
    {
      "cell_type": "code",
      "execution_count": 2,
      "metadata": {
        "id": "Go-Y-Ofy-ZTk"
      },
      "outputs": [
        {
          "name": "stdout",
          "output_type": "stream",
          "text": [
            "       user_id  movie_id  rating  timestamp\n",
            "0          196       242       3  881250949\n",
            "1          186       302       3  891717742\n",
            "2           22       377       1  878887116\n",
            "3          244        51       2  880606923\n",
            "4          166       346       1  886397596\n",
            "...        ...       ...     ...        ...\n",
            "99995      880       476       3  880175444\n",
            "99996      716       204       5  879795543\n",
            "99997      276      1090       1  874795795\n",
            "99998       13       225       2  882399156\n",
            "99999       12       203       3  879959583\n",
            "\n",
            "[100000 rows x 4 columns]\n"
          ]
        }
      ],
      "source": [
        "# ratings\n",
        "import pandas as pd\n",
        "ratings = pd.read_csv('u.data', sep='\\t', names=['user_id', 'movie_id', 'rating', 'timestamp'])\n",
        "print(ratings)"
      ]
    },
    {
      "cell_type": "code",
      "execution_count": 3,
      "metadata": {
        "id": "zM8IJGh-CLN5"
      },
      "outputs": [
        {
          "name": "stdout",
          "output_type": "stream",
          "text": [
            "      movie_id                                      title release_date\n",
            "0            1                           Toy Story (1995)  01-Jan-1995\n",
            "1            2                           GoldenEye (1995)  01-Jan-1995\n",
            "2            3                          Four Rooms (1995)  01-Jan-1995\n",
            "3            4                          Get Shorty (1995)  01-Jan-1995\n",
            "4            5                             Copycat (1995)  01-Jan-1995\n",
            "...        ...                                        ...          ...\n",
            "1677      1678                          Mat' i syn (1997)  06-Feb-1998\n",
            "1678      1679                           B. Monkey (1998)  06-Feb-1998\n",
            "1679      1680                       Sliding Doors (1998)  01-Jan-1998\n",
            "1680      1681                        You So Crazy (1994)  01-Jan-1994\n",
            "1681      1682  Scream of Stone (Schrei aus Stein) (1991)  08-Mar-1996\n",
            "\n",
            "[1682 rows x 3 columns]\n"
          ]
        }
      ],
      "source": [
        "# movies\n",
        "import pandas as pd\n",
        "movies = pd.read_csv('u.item', sep='|', names=['movie_id', 'title', 'release_date'], usecols=[0, 1, 2], encoding=\"latin-1\")\n",
        "print(movies)"
      ]
    },
    {
      "cell_type": "code",
      "execution_count": 4,
      "metadata": {
        "id": "hsekVjevCNKj"
      },
      "outputs": [
        {
          "name": "stdout",
          "output_type": "stream",
          "text": [
            "     user_id  age gender     occupation\n",
            "0          1   24      M     technician\n",
            "1          2   53      F          other\n",
            "2          3   23      M         writer\n",
            "3          4   24      M     technician\n",
            "4          5   33      F          other\n",
            "..       ...  ...    ...            ...\n",
            "938      939   26      F        student\n",
            "939      940   32      M  administrator\n",
            "940      941   20      M        student\n",
            "941      942   48      F      librarian\n",
            "942      943   22      M        student\n",
            "\n",
            "[943 rows x 4 columns]\n"
          ]
        }
      ],
      "source": [
        "# users\n",
        "import pandas as pd\n",
        "users = pd.read_csv('u.user', sep='|', names=['user_id', 'age', 'gender', 'occupation'], usecols=[0, 1, 2, 3])\n",
        "print(users)"
      ]
    },
    {
      "cell_type": "markdown",
      "metadata": {
        "id": "jE5OHLqt7xeq"
      },
      "source": [
        "**Note:** As a **Bonus** task save the `ratings`, `movies` and `users` dataframe created into a `.csv` file format. <br>\n",
        "**Hint:** Use the `to_csv()` function in pandas to save these DataFrames as CSV files."
      ]
    },
    {
      "cell_type": "code",
      "execution_count": 5,
      "metadata": {
        "id": "Chyv3c4n8wVC"
      },
      "outputs": [],
      "source": [
        "# ratings\n",
        "import pandas as pd\n",
        "ratings = pd.read_csv('u.data', sep='\\t', names=['user_id', 'movie_id', 'rating', 'timestamp'])\n",
        "ratings.to_csv('ratings.csv')"
      ]
    },
    {
      "cell_type": "code",
      "execution_count": 6,
      "metadata": {
        "id": "Gl7zVV3y8wKU"
      },
      "outputs": [],
      "source": [
        "# movies\n",
        "import pandas as pd\n",
        "movies = pd.read_csv('u.item', sep='|', names=['movie_id', 'title', 'release_date'], usecols=[0, 1, 2], encoding=\"latin-1\")\n",
        "movies.to_csv('movies.csv')"
      ]
    },
    {
      "cell_type": "code",
      "execution_count": 7,
      "metadata": {
        "id": "0YwVuebp8u46"
      },
      "outputs": [],
      "source": [
        "# users\n",
        "import pandas as pd\n",
        "users = pd.read_csv('u.user', sep='|', names=['user_id', 'age', 'gender', 'occupation'], usecols=[0, 1, 2, 3])\n",
        "users.to_csv('users.csv')"
      ]
    },
    {
      "cell_type": "markdown",
      "metadata": {
        "id": "s3S1y82cCYxx"
      },
      "source": [
        "**Display the first 10 rows of each file.**"
      ]
    },
    {
      "cell_type": "code",
      "execution_count": 8,
      "metadata": {
        "id": "x5ZOXTqnCPgw"
      },
      "outputs": [
        {
          "name": "stdout",
          "output_type": "stream",
          "text": [
            "   user_id  movie_id  rating  timestamp\n",
            "0      196       242       3  881250949\n",
            "1      186       302       3  891717742\n",
            "2       22       377       1  878887116\n",
            "3      244        51       2  880606923\n",
            "4      166       346       1  886397596\n",
            "5      298       474       4  884182806\n",
            "6      115       265       2  881171488\n",
            "7      253       465       5  891628467\n",
            "8      305       451       3  886324817\n",
            "9        6        86       3  883603013\n"
          ]
        }
      ],
      "source": [
        "# ratings\n",
        "import pandas as pd\n",
        "ratings = pd.read_csv('u.data', sep='\\t', names=['user_id', 'movie_id', 'rating', 'timestamp'])\n",
        "print(ratings.head(10))"
      ]
    },
    {
      "cell_type": "code",
      "execution_count": 9,
      "metadata": {
        "id": "AzuqiRkrCdfZ"
      },
      "outputs": [
        {
          "name": "stdout",
          "output_type": "stream",
          "text": [
            "   movie_id                                              title release_date\n",
            "0         1                                   Toy Story (1995)  01-Jan-1995\n",
            "1         2                                   GoldenEye (1995)  01-Jan-1995\n",
            "2         3                                  Four Rooms (1995)  01-Jan-1995\n",
            "3         4                                  Get Shorty (1995)  01-Jan-1995\n",
            "4         5                                     Copycat (1995)  01-Jan-1995\n",
            "5         6  Shanghai Triad (Yao a yao yao dao waipo qiao) ...  01-Jan-1995\n",
            "6         7                              Twelve Monkeys (1995)  01-Jan-1995\n",
            "7         8                                        Babe (1995)  01-Jan-1995\n",
            "8         9                            Dead Man Walking (1995)  01-Jan-1995\n",
            "9        10                                 Richard III (1995)  22-Jan-1996\n"
          ]
        }
      ],
      "source": [
        "# movies\n",
        "import pandas as pd\n",
        "movies = pd.read_csv('u.item', sep='|', names=['movie_id', 'title', 'release_date'], usecols=[0, 1, 2], encoding=\"latin-1\")\n",
        "print(movies.head(10))"
      ]
    },
    {
      "cell_type": "code",
      "execution_count": 10,
      "metadata": {
        "id": "FE9hcM9mCewe"
      },
      "outputs": [
        {
          "name": "stdout",
          "output_type": "stream",
          "text": [
            "   user_id  age gender     occupation\n",
            "0        1   24      M     technician\n",
            "1        2   53      F          other\n",
            "2        3   23      M         writer\n",
            "3        4   24      M     technician\n",
            "4        5   33      F          other\n",
            "5        6   42      M      executive\n",
            "6        7   57      M  administrator\n",
            "7        8   36      M  administrator\n",
            "8        9   29      M        student\n",
            "9       10   53      M         lawyer\n"
          ]
        }
      ],
      "source": [
        "# users\n",
        "import pandas as pd\n",
        "users = pd.read_csv('u.user', sep='|', names=['user_id', 'age', 'gender', 'occupation'], usecols=[0, 1, 2, 3])\n",
        "print(users.head(10))"
      ]
    },
    {
      "cell_type": "markdown",
      "metadata": {
        "id": "i38iDIz-DiVj"
      },
      "source": [
        "### Data Cleaning and Exploration with Pandas  \n",
        "\n",
        "After loading the dataset, it’s important to clean and explore the data to ensure consistency and accuracy. Below are key **pandas** functions for cleaning and understanding the dataset.\n",
        "\n",
        "#### 1. Handle Missing Values  \n",
        "- `df.dropna()` – Removes rows with missing values.  \n",
        "- `df.fillna(value)` – Fills missing values with a specified value.  \n",
        "\n",
        "#### 2. Remove Duplicates  \n",
        "- `df.drop_duplicates()` – Drops duplicate rows from the dataset.  \n",
        "\n",
        "#### 3. Handle Incorrect Data Types  \n",
        "- `df.astype(dtype)` – Converts columns to the appropriate data type.  \n",
        "\n",
        "#### 4. Filter Outliers (if applicable)  \n",
        "- `df[df['column_name'] > threshold]` – Filters rows based on a condition.  \n",
        "\n",
        "#### 5. Rename Columns (if needed)  \n",
        "- `df.rename(columns={'old_name': 'new_name'})` – Renames columns for clarity.  \n",
        "\n",
        "#### 6. Reset Index  \n",
        "- `df.reset_index(drop=True, inplace=True)` – Resets the index after cleaning.  \n",
        "\n",
        "### Data Exploration Functions  \n",
        "\n",
        "To better understand the dataset, use these **pandas** functions:  \n",
        "\n",
        "- `df.shape` – Returns the number of rows and columns in the dataset.  \n",
        "- `df.nunique()` – Displays the number of unique values in each column.  \n",
        "- `df['column_name'].unique()` – Returns unique values in a specific column.  \n",
        "\n",
        "**Example Usage in Pandas:**  \n",
        "```python\n",
        "import pandas as pd\n",
        "\n",
        "# Load dataset\n",
        "df = pd.read_csv(\"your_file.csv\")\n",
        "\n",
        "# Drop missing values\n",
        "df_cleaned = df.dropna()\n",
        "\n",
        "# Remove duplicate rows\n",
        "df_cleaned = df_cleaned.drop_duplicates()\n",
        "\n",
        "# Convert 'timestamp' column to datetime format\n",
        "df_cleaned['timestamp'] = pd.to_datetime(df_cleaned['timestamp'])\n",
        "\n",
        "# Display dataset shape\n",
        "print(\"Dataset shape:\", df_cleaned.shape)\n",
        "\n",
        "# Display number of unique values in each column\n",
        "print(\"Unique values per column:\\n\", df_cleaned.nunique())\n",
        "\n",
        "# Display unique movie IDs\n",
        "print(\"Unique movie IDs:\", df_cleaned['movie_id'].unique()[:10])  # Show first 10 unique movie IDs\n"
      ]
    },
    {
      "cell_type": "markdown",
      "metadata": {
        "id": "4cwmLON4EItA"
      },
      "source": [
        "**Note:** The functions mentioned above are some of the widely used **pandas** functions for data cleaning and exploration. However, it is not necessary that all of these functions will be required in the exercises below. Use them as needed based on the dataset and the specific tasks."
      ]
    },
    {
      "cell_type": "markdown",
      "metadata": {
        "id": "Tn0bLOSACxMP"
      },
      "source": [
        "**Convert Timestamps into Readable dates.**"
      ]
    },
    {
      "cell_type": "code",
      "execution_count": 11,
      "metadata": {
        "id": "9MwnDxeeCf8b"
      },
      "outputs": [
        {
          "name": "stdout",
          "output_type": "stream",
          "text": [
            "       user_id  movie_id  rating                     timestamp\n",
            "0          196       242       3 1970-01-01 00:00:00.881250949\n",
            "1          186       302       3 1970-01-01 00:00:00.891717742\n",
            "2           22       377       1 1970-01-01 00:00:00.878887116\n",
            "3          244        51       2 1970-01-01 00:00:00.880606923\n",
            "4          166       346       1 1970-01-01 00:00:00.886397596\n",
            "...        ...       ...     ...                           ...\n",
            "99995      880       476       3 1970-01-01 00:00:00.880175444\n",
            "99996      716       204       5 1970-01-01 00:00:00.879795543\n",
            "99997      276      1090       1 1970-01-01 00:00:00.874795795\n",
            "99998       13       225       2 1970-01-01 00:00:00.882399156\n",
            "99999       12       203       3 1970-01-01 00:00:00.879959583\n",
            "\n",
            "[100000 rows x 4 columns]\n"
          ]
        }
      ],
      "source": [
        "# ratings\n",
        "ratings['timestamp'] = pd.to_datetime(ratings['timestamp'])\n",
        "print(ratings)"
      ]
    },
    {
      "cell_type": "markdown",
      "metadata": {
        "id": "oKJB0a9CE0Z4"
      },
      "source": [
        "**Check for Missing Values**"
      ]
    },
    {
      "cell_type": "code",
      "execution_count": 12,
      "metadata": {
        "id": "iYf4NM47DL7q"
      },
      "outputs": [
        {
          "name": "stdout",
          "output_type": "stream",
          "text": [
            "       user_id  movie_id  rating                     timestamp\n",
            "0          196       242       3 1970-01-01 00:00:00.881250949\n",
            "1          186       302       3 1970-01-01 00:00:00.891717742\n",
            "2           22       377       1 1970-01-01 00:00:00.878887116\n",
            "3          244        51       2 1970-01-01 00:00:00.880606923\n",
            "4          166       346       1 1970-01-01 00:00:00.886397596\n",
            "...        ...       ...     ...                           ...\n",
            "99995      880       476       3 1970-01-01 00:00:00.880175444\n",
            "99996      716       204       5 1970-01-01 00:00:00.879795543\n",
            "99997      276      1090       1 1970-01-01 00:00:00.874795795\n",
            "99998       13       225       2 1970-01-01 00:00:00.882399156\n",
            "99999       12       203       3 1970-01-01 00:00:00.879959583\n",
            "\n",
            "[100000 rows x 4 columns]\n"
          ]
        }
      ],
      "source": [
        "# ratings\n",
        "ratings_cleaned = ratings.dropna()\n",
        "ratings_cleaned = ratings_cleaned.drop_duplicates()\n",
        "print(ratings_cleaned)"
      ]
    },
    {
      "cell_type": "code",
      "execution_count": 13,
      "metadata": {
        "id": "hgM78fNaFH2q"
      },
      "outputs": [
        {
          "name": "stdout",
          "output_type": "stream",
          "text": [
            "      movie_id                                      title release_date\n",
            "0            1                           Toy Story (1995)  01-Jan-1995\n",
            "1            2                           GoldenEye (1995)  01-Jan-1995\n",
            "2            3                          Four Rooms (1995)  01-Jan-1995\n",
            "3            4                          Get Shorty (1995)  01-Jan-1995\n",
            "4            5                             Copycat (1995)  01-Jan-1995\n",
            "...        ...                                        ...          ...\n",
            "1677      1678                          Mat' i syn (1997)  06-Feb-1998\n",
            "1678      1679                           B. Monkey (1998)  06-Feb-1998\n",
            "1679      1680                       Sliding Doors (1998)  01-Jan-1998\n",
            "1680      1681                        You So Crazy (1994)  01-Jan-1994\n",
            "1681      1682  Scream of Stone (Schrei aus Stein) (1991)  08-Mar-1996\n",
            "\n",
            "[1681 rows x 3 columns]\n"
          ]
        }
      ],
      "source": [
        "# movies\n",
        "movies_cleaned = movies.dropna().drop_duplicates()\n",
        "print(movies_cleaned)"
      ]
    },
    {
      "cell_type": "code",
      "execution_count": 14,
      "metadata": {
        "id": "jE8J_cajFA5n"
      },
      "outputs": [
        {
          "name": "stdout",
          "output_type": "stream",
          "text": [
            "     user_id  age gender     occupation\n",
            "0          1   24      M     technician\n",
            "1          2   53      F          other\n",
            "2          3   23      M         writer\n",
            "3          4   24      M     technician\n",
            "4          5   33      F          other\n",
            "..       ...  ...    ...            ...\n",
            "938      939   26      F        student\n",
            "939      940   32      M  administrator\n",
            "940      941   20      M        student\n",
            "941      942   48      F      librarian\n",
            "942      943   22      M        student\n",
            "\n",
            "[943 rows x 4 columns]\n"
          ]
        }
      ],
      "source": [
        "# users\n",
        "users_cleaned = users.dropna()\n",
        "users_cleaned = users_cleaned.drop_duplicates()\n",
        "print(users_cleaned)"
      ]
    },
    {
      "cell_type": "markdown",
      "metadata": {
        "id": "1WviFe7iFRoQ"
      },
      "source": [
        "**Print the total number of users, movies, and ratings.**"
      ]
    },
    {
      "cell_type": "code",
      "execution_count": 15,
      "metadata": {
        "id": "eR_QgS9aFTPb"
      },
      "outputs": [
        {
          "name": "stdout",
          "output_type": "stream",
          "text": [
            "Total Users: 943\n",
            "Total Movies: 1681\n",
            "Total Ratings: 100000\n"
          ]
        }
      ],
      "source": [
        "print(f\"Total Users: { users_cleaned['user_id'].nunique() }\")\n",
        "print(f\"Total Movies: { movies_cleaned['movie_id'].nunique() }\")\n",
        "print(f\"Total Ratings: { ratings_cleaned.shape[0] }\")"
      ]
    },
    {
      "cell_type": "markdown",
      "metadata": {
        "id": "NjxACjUgFwsk"
      },
      "source": [
        "## **Part 2: Collaborative Filtering-Based Recommendation**"
      ]
    },
    {
      "cell_type": "markdown",
      "metadata": {
        "id": "AyeSaLpRGYuC"
      },
      "source": [
        "### **Create a User-Item Matrix**"
      ]
    },
    {
      "cell_type": "markdown",
      "metadata": {
        "id": "3tKsv-7XHRq2"
      },
      "source": [
        "#### Instructions for Creating a User-Movie Rating Matrix"
      ]
    },
    {
      "cell_type": "markdown",
      "metadata": {
        "id": "lLayr0YbH4tB"
      },
      "source": [
        "In this exercise, you will create a user-movie rating matrix using **pandas**. This matrix will represent the ratings that users have given to different movies.\n",
        "\n",
        "1. **Dataset Overview**:  \n",
        "   The dataset has already been loaded. It includes the following key columns:\n",
        "   - `user_id`: The ID of the user.\n",
        "   - `movie_id`: The ID of the movie.\n",
        "   - `ratings`: The rating the user gave to the movie.\n",
        "\n",
        "2. **Create the User-Movie Rating Matrix**:  \n",
        "   Use the **`pivot()`** function in **pandas** to reshape the data. Your goal is to create a matrix where:\n",
        "   - Each **row** represents a **user**.\n",
        "   - Each **column** represents a **movie**.\n",
        "   - Each **cell** contains the **rating** that the user has given to the movie.\n",
        "\n",
        "   Specify the following parameters for the `pivot()` function:\n",
        "   - **`index`**: The `user_id` column (this will define the rows).\n",
        "   - **`columns`**: The `movie_id` column (this will define the columns).\n",
        "   - **`values`**: The `rating` column (this will fill the matrix with ratings).\n",
        "\n",
        "3. **Inspect the Matrix**:  \n",
        "   After creating the matrix, examine the first few rows of the resulting matrix to ensure it has been constructed correctly.\n",
        "\n",
        "4. **Handle Missing Values**:  \n",
        "   It's likely that some users have not rated every movie, resulting in `NaN` values in the matrix. You will need to handle these missing values. Consider the following options:\n",
        "   - **Fill with 0**: If you wish to represent missing ratings as zeros (indicating no rating).\n",
        "   - **Fill with the average rating**: Alternatively, replace missing values with the average rating for each movie."
      ]
    },
    {
      "cell_type": "markdown",
      "metadata": {
        "id": "E_cdPXYeaD-l"
      },
      "source": [
        "**Create the user-movie rating matrix using the `pivot()` function.**"
      ]
    },
    {
      "cell_type": "code",
      "execution_count": 16,
      "metadata": {
        "id": "Ie858yKEUSfc"
      },
      "outputs": [],
      "source": [
        "user_movie_matrix = ratings_cleaned.pivot(index='user_id', columns='movie_id', values='rating')"
      ]
    },
    {
      "cell_type": "markdown",
      "metadata": {
        "id": "tyb3h9FmaVGH"
      },
      "source": [
        "**Display the matrix to verify the transformation.**"
      ]
    },
    {
      "cell_type": "code",
      "execution_count": 17,
      "metadata": {
        "id": "16abaOrXabN_"
      },
      "outputs": [
        {
          "name": "stdout",
          "output_type": "stream",
          "text": [
            "movie_id  1     2     3     4     5     6     7     8     9     10    ...  \\\n",
            "user_id                                                               ...   \n",
            "1          5.0   3.0   4.0   3.0   3.0   5.0   4.0   1.0   5.0   3.0  ...   \n",
            "2          4.0   NaN   NaN   NaN   NaN   NaN   NaN   NaN   NaN   2.0  ...   \n",
            "3          NaN   NaN   NaN   NaN   NaN   NaN   NaN   NaN   NaN   NaN  ...   \n",
            "4          NaN   NaN   NaN   NaN   NaN   NaN   NaN   NaN   NaN   NaN  ...   \n",
            "5          4.0   3.0   NaN   NaN   NaN   NaN   NaN   NaN   NaN   NaN  ...   \n",
            "...        ...   ...   ...   ...   ...   ...   ...   ...   ...   ...  ...   \n",
            "939        NaN   NaN   NaN   NaN   NaN   NaN   NaN   NaN   5.0   NaN  ...   \n",
            "940        NaN   NaN   NaN   2.0   NaN   NaN   4.0   5.0   3.0   NaN  ...   \n",
            "941        5.0   NaN   NaN   NaN   NaN   NaN   4.0   NaN   NaN   NaN  ...   \n",
            "942        NaN   NaN   NaN   NaN   NaN   NaN   NaN   NaN   NaN   NaN  ...   \n",
            "943        NaN   5.0   NaN   NaN   NaN   NaN   NaN   NaN   3.0   NaN  ...   \n",
            "\n",
            "movie_id  1673  1674  1675  1676  1677  1678  1679  1680  1681  1682  \n",
            "user_id                                                               \n",
            "1          NaN   NaN   NaN   NaN   NaN   NaN   NaN   NaN   NaN   NaN  \n",
            "2          NaN   NaN   NaN   NaN   NaN   NaN   NaN   NaN   NaN   NaN  \n",
            "3          NaN   NaN   NaN   NaN   NaN   NaN   NaN   NaN   NaN   NaN  \n",
            "4          NaN   NaN   NaN   NaN   NaN   NaN   NaN   NaN   NaN   NaN  \n",
            "5          NaN   NaN   NaN   NaN   NaN   NaN   NaN   NaN   NaN   NaN  \n",
            "...        ...   ...   ...   ...   ...   ...   ...   ...   ...   ...  \n",
            "939        NaN   NaN   NaN   NaN   NaN   NaN   NaN   NaN   NaN   NaN  \n",
            "940        NaN   NaN   NaN   NaN   NaN   NaN   NaN   NaN   NaN   NaN  \n",
            "941        NaN   NaN   NaN   NaN   NaN   NaN   NaN   NaN   NaN   NaN  \n",
            "942        NaN   NaN   NaN   NaN   NaN   NaN   NaN   NaN   NaN   NaN  \n",
            "943        NaN   NaN   NaN   NaN   NaN   NaN   NaN   NaN   NaN   NaN  \n",
            "\n",
            "[943 rows x 1682 columns]\n"
          ]
        }
      ],
      "source": [
        "print(user_movie_matrix)"
      ]
    },
    {
      "cell_type": "markdown",
      "metadata": {
        "id": "fOXp00QSbtHk"
      },
      "source": [
        "### **User-Based Collaborative Filtering Recommender System**"
      ]
    },
    {
      "cell_type": "markdown",
      "metadata": {
        "id": "FwKBZk5Sc7YA"
      },
      "source": [
        "#### **Objective**\n",
        "In this task, you will implement a **user-based collaborative filtering** movie recommendation system using the **Movie dataset**. The goal is to recommend movies to a user based on the preferences of similar users."
      ]
    },
    {
      "cell_type": "markdown",
      "metadata": {
        "id": "fZf-Nu2rdPHR"
      },
      "source": [
        "##### **Step 1: Import Required Libraries**\n",
        "Before starting, ensure you have the necessary libraries installed. Use the following imports:\n",
        "\n",
        "```python\n",
        "import pandas as pd  # For handling data\n",
        "import numpy as np   # For numerical computations\n",
        "from sklearn.metrics.pairwise import cosine_similarity  # For computing user similarity\n",
        "```"
      ]
    },
    {
      "cell_type": "markdown",
      "metadata": {
        "id": "qzJNshMbdwyR"
      },
      "source": [
        "##### **Step 2: Compute User-User Similarity**\n",
        "- We will use **cosine similarity** to measure how similar each pair of users is based on their movie ratings.\n",
        "- Since `cosine_similarity` does not handle missing values (NaN), replace them with `0` before computation."
      ]
    },
    {
      "cell_type": "markdown",
      "metadata": {
        "id": "pkO_XtPqd4Sw"
      },
      "source": [
        "##### **Instructions:**\n",
        "1. Fill missing values with `0` using `.fillna(0)`.\n",
        "2. Compute similarity using `cosine_similarity()`.\n",
        "3. Convert the result into a **Pandas DataFrame**, with users as both row and column labels.\n",
        "\n",
        "##### **Hint:**  \n",
        "You can achieve this using the following approach:\n",
        "\n",
        "```python\n",
        "user_similarity = cosine_similarity(user_movie_matrix.fillna(0))\n",
        "user_sim_df = pd.DataFrame(user_similarity, index=user_movie_matrix.index, columns=user_movie_matrix.index)\n",
        "```"
      ]
    },
    {
      "cell_type": "markdown",
      "metadata": {
        "id": "NtmluaSGeBE-"
      },
      "source": [
        "##### **Step 3: Implement the Recommendation Function**\n",
        "Now, implement the function `recommend_movies_for_user(user_id, num=5)` to recommend movies for a given user.\n",
        "\n",
        "##### **Function Inputs:**\n",
        "- `user_id`: The target user for whom we need recommendations.\n",
        "- `num`: The number of movies to recommend (default is 5).\n",
        "\n",
        "##### **Function Steps:**\n",
        "1. Find **similar users**:\n",
        "   - Retrieve the similarity scores for the given `user_id`.\n",
        "   - Sort them in **descending** order (highest similarity first).\n",
        "   - Exclude the user themselves.\n",
        "   \n",
        "2. Get the **movie ratings** from these similar users.\n",
        "\n",
        "3. Compute the **average rating** for each movie based on these users' preferences.\n",
        "\n",
        "4. Sort the movies in **descending order** based on the computed average ratings.\n",
        "\n",
        "5. Retrieve the **top `num` recommended movies**.\n",
        "\n",
        "6. Map **movie IDs** to their **titles** using the `movies` DataFrame.\n",
        "\n",
        "7. Return the results as a **Pandas DataFrame** with rankings."
      ]
    },
    {
      "cell_type": "markdown",
      "metadata": {
        "id": "SgO0zd8LeGJ_"
      },
      "source": [
        "##### **Step 4: Return the Final Recommendation List**\n",
        "Your function should return a **DataFrame** structured as follows:\n",
        "\n",
        "| Ranking | Movie Name |\n",
        "|---------|-----------|\n",
        "| 1       | Movie A   |\n",
        "| 2       | Movie B   |\n",
        "| 3       | Movie C   |\n",
        "| 4       | Movie D   |\n",
        "| 5       | Movie E   |\n",
        "\n",
        "##### **Hint:** Your final DataFrame should be created like this:\n",
        "```python\n",
        "result_df = pd.DataFrame({\n",
        "    'Ranking': range(1, num+1),\n",
        "    'Movie Name': movie_names     \n",
        "})\n",
        "result_df.set_index('Ranking', inplace=True)\n",
        "```\n",
        "\n",
        "#### **Example: User-Based Collaborative Filtering**\n",
        "```python\n",
        "recommend_movies_for_user(10, num = 5)\n",
        "```\n",
        "**Output:**\n",
        "```\n",
        "| Ranking | Movie Name                     |\n",
        "|---------|--------------------------------|\n",
        "| 1       | In the Company of Men (1997)   |\n",
        "| 2       | Misérables, Les (1995)         |\n",
        "| 3       | Thin Blue Line, The (1988)     |\n",
        "| 4       | Braindead (1992)               |\n",
        "| 5       | Boys, Les (1997)               |\n"
      ]
    },
    {
      "cell_type": "code",
      "execution_count": 44,
      "metadata": {
        "id": "rbENugJ5cUpo"
      },
      "outputs": [
        {
          "name": "stdout",
          "output_type": "stream",
          "text": [
            "   Ranking                                              title\n",
            "0        1                                    Star Kid (1997)\n",
            "1        2                          Santa with Muscles (1996)\n",
            "2        3  Entertaining Angels: The Dorothy Day Story (1996)\n",
            "3        4                                 Prefontaine (1997)\n",
            "4        5         Marlene Dietrich: Shadow and Light (1996) \n"
          ]
        }
      ],
      "source": [
        "# Code the function here\n",
        "import pandas as pd  # For handling data\n",
        "import numpy as np   # For numerical computations\n",
        "from sklearn.metrics.pairwise import cosine_similarity  # For computing user similarity\n",
        "\n",
        "user_similarity = cosine_similarity(user_movie_matrix.fillna(0))\n",
        "user_sim_df = pd.DataFrame(user_similarity, index=user_movie_matrix.index, columns=user_movie_matrix.index)\n",
        "\n",
        "def recommend_movies_for_user(user_id, num=5):\n",
        "    similar_users = user_sim_df.loc[user_id].drop(user_id).sort_values(ascending=False)\n",
        "\n",
        "    # Step 2: Get movie ratings from similar users\n",
        "    top_similar_users = similar_users.index\n",
        "    similar_users_ratings = ratings_cleaned[ratings_cleaned['user_id'].isin(top_similar_users)]\n",
        "\n",
        "    # Step 3: Average ratings by movie from similar users\n",
        "    avg_ratings = similar_users_ratings.groupby('movie_id')['rating'].mean()\n",
        "\n",
        "    # Step 4: Sort by average rating descending\n",
        "    sorted_recommendations = avg_ratings.sort_values(ascending=False).head(num)\n",
        "\n",
        "    # Step 6: Map movieId to title\n",
        "    recommendations = pd.DataFrame({\n",
        "        'Movie Name': sorted_recommendations.index,\n",
        "        'Ratings': sorted_recommendations.values\n",
        "    })\n",
        "    recommendations = pd.merge(recommendations, movies_cleaned, left_on='Movie Name', right_on='movie_id')\n",
        "\n",
        "    # Step 7: Return with ranking\n",
        "    recommendations['Ranking'] = recommendations['Ratings'].rank(method='first', ascending=False).astype(int)\n",
        "    recommendations = recommendations.sort_values('Ranking')\n",
        "\n",
        "    return recommendations[['Ranking', 'title']]\n",
        "\n",
        "recommendations = recommend_movies_for_user(10, 5)\n",
        "print(recommendations)\n"
      ]
    },
    {
      "cell_type": "markdown",
      "metadata": {
        "id": "MIN3XqC0eUAu"
      },
      "source": [
        "### **Item-Based Collaborative Filtering Recommender System**"
      ]
    },
    {
      "cell_type": "markdown",
      "metadata": {
        "id": "ytqWK-4ze2aA"
      },
      "source": [
        "#### **Objective**\n",
        "In this task, you will implement an **item-based collaborative filtering** recommendation system using the **Movie dataset**. The goal is to recommend movies similar to a given movie based on user rating patterns."
      ]
    },
    {
      "cell_type": "markdown",
      "metadata": {
        "id": "Q0-HuDvffY57"
      },
      "source": [
        "#### **Step 1: Import Required Libraries**\n",
        "Although we have done this part already in the previous task but just to emphasize the importance reiterrating this part.\n",
        "\n",
        "Before starting, ensure you have the necessary libraries installed. Use the following imports:\n",
        "\n",
        "```python\n",
        "import pandas as pd  # For handling data\n",
        "import numpy as np   # For numerical computations\n",
        "from sklearn.metrics.pairwise import cosine_similarity  # For computing item similarity\n",
        "```"
      ]
    },
    {
      "cell_type": "markdown",
      "metadata": {
        "id": "b9oy7pojf19r"
      },
      "source": [
        "#### **Step 2: Compute Item-Item Similarity**\n",
        "- We will use **cosine similarity** to measure how similar each pair of movies is based on their user ratings.\n",
        "- Since `cosine_similarity` does not handle missing values (NaN), replace them with `0` before computation.\n",
        "- Unlike user-based filtering, we need to **transpose** (`.T`) the `user_movie_matrix` because we want similarity between movies (columns) instead of users (rows).\n",
        "\n",
        "##### **Instructions:**\n",
        "1. Transpose the user-movie matrix using `.T` to make movies the rows.\n",
        "2. Fill missing values with `0` using `.fillna(0)`.\n",
        "3. Compute similarity using `cosine_similarity()`.\n",
        "4. Convert the result into a **Pandas DataFrame**, with movies as both row and column labels.\n",
        "\n",
        "##### **Hint:**  \n",
        "You can achieve this using the following approach:\n",
        "\n",
        "```python\n",
        "item_similarity = cosine_similarity(user_movie_matrix.T.fillna(0))\n",
        "item_sim_df = pd.DataFrame(item_similarity, index=user_movie_matrix.columns, columns=user_movie_matrix.columns)\n",
        "```"
      ]
    },
    {
      "cell_type": "markdown",
      "metadata": {
        "id": "L8k80idUgDWW"
      },
      "source": [
        "#### **Step 3: Implement the Recommendation Function**\n",
        "Now, implement the function `recommend_movies(movie_name, num=5)` to recommend movies similar to a given movie.\n",
        "\n",
        "##### **Function Inputs:**\n",
        "- `movie_name`: The target movie for which we need recommendations.\n",
        "- `num`: The number of similar movies to recommend (default is 5).\n",
        "\n",
        "##### **Function Steps:**\n",
        "1. Find the **movie_id** corresponding to the given `movie_name` in the `movies` DataFrame.\n",
        "2. If the movie is not found, return an appropriate message.\n",
        "3. Extract the **similarity scores** for this movie from `item_sim_df`.\n",
        "4. Sort the movies in **descending order** based on similarity (excluding the movie itself).\n",
        "5. Retrieve the **top `num` similar movies**.\n",
        "6. Map **movie IDs** to their **titles** using the `movies` DataFrame.\n",
        "7. Return the results as a **Pandas DataFrame** with rankings."
      ]
    },
    {
      "cell_type": "markdown",
      "metadata": {
        "id": "kNRZQWQkgLPf"
      },
      "source": [
        "#### **Step 4: Return the Final Recommendation List**\n",
        "Your function should return a **DataFrame** structured as follows:\n",
        "\n",
        "| Ranking | Movie Name |\n",
        "|---------|-----------|\n",
        "| 1       | Movie A   |\n",
        "| 2       | Movie B   |\n",
        "| 3       | Movie C   |\n",
        "| 4       | Movie D   |\n",
        "| 5       | Movie E   |\n",
        "\n",
        "##### **Hint:** Your final DataFrame should be created like this:\n",
        "```python\n",
        "result_df = pd.DataFrame({\n",
        "    'ranking': range(1, num+1),\n",
        "    'movie_name': movie_names\n",
        "})\n",
        "result_df.set_index('ranking', inplace=True)\n",
        "```"
      ]
    },
    {
      "cell_type": "markdown",
      "metadata": {
        "id": "h-EEF0Q1gd9N"
      },
      "source": [
        "#### **Example: Item-Based Collaborative Filtering**\n",
        "```python\n",
        "recommend_movies(\"Jurassic Park (1993)\", num=5)\n",
        "```\n",
        "**Output:**\n",
        "```\n",
        "| Ranking | Movie Name                               |\n",
        "|---------|------------------------------------------|\n",
        "| 1       | Top Gun (1986)                           |\n",
        "| 2       | Empire Strikes Back, The (1980)          |\n",
        "| 3       | Raiders of the Lost Ark (1981)           |\n",
        "| 4       | Indiana Jones and the Last Crusade (1989)|\n",
        "| 5       | Speed (1994)                             |\n"
      ]
    },
    {
      "cell_type": "code",
      "execution_count": 72,
      "metadata": {
        "id": "l1K79akTebWa"
      },
      "outputs": [
        {
          "name": "stdout",
          "output_type": "stream",
          "text": [
            "   Ranking                                      title\n",
            "0        1                             Top Gun (1986)\n",
            "1        2                               Speed (1994)\n",
            "2        3             Raiders of the Lost Ark (1981)\n",
            "3        4            Empire Strikes Back, The (1980)\n",
            "4        5  Indiana Jones and the Last Crusade (1989)\n"
          ]
        }
      ],
      "source": [
        "# Code the function here\n",
        "import pandas as pd  # For handling data\n",
        "import numpy as np   # For numerical computations\n",
        "from sklearn.metrics.pairwise import cosine_similarity  # For computing user similarity\n",
        "\n",
        "item_similarity = cosine_similarity(user_movie_matrix.T.fillna(0))\n",
        "item_sim_df = pd.DataFrame(item_similarity, index=user_movie_matrix.columns, columns=user_movie_matrix.columns)\n",
        "\n",
        "def recommend_movies(movie_name, num=5):\n",
        "    # Step 1 & 2\n",
        "    movie_id = movies_cleaned[movies_cleaned['title'].str.lower() == movie_name.lower()]\n",
        "    if movie_id.empty:\n",
        "        return f\"Movie '{movie_name}' not found in the dataset.\"\n",
        "    movie_id = movie_id.iloc[0]['movie_id']\n",
        "    \n",
        "    # Step 3\n",
        "    if movie_id not in item_sim_df.index:\n",
        "        return f\"No similarity data available for movie '{movie_name}'.\"\n",
        "    similar_items = item_sim_df[movie_id].drop(movie_id)\n",
        "\n",
        "    # Step 4, 5\n",
        "    sorted_item_ratings = similar_items.sort_values(ascending=False)\n",
        "    top_item_ratings = sorted_item_ratings.head(num)\n",
        "\n",
        "    # Step 6\n",
        "    movie_recommendations = pd.DataFrame({\n",
        "        'Ratings': top_item_ratings.values,\n",
        "        'Movie Name': top_item_ratings.index\n",
        "    })\n",
        "    movie_recommendations = pd.merge(movie_recommendations, movies_cleaned, left_on='Movie Name', right_on='movie_id')\n",
        "\n",
        "    # Step 7\n",
        "    movie_recommendations['Ranking'] = movie_recommendations['Ratings'].rank(method='first', ascending=False).astype(int)\n",
        "    movie_recommendations = movie_recommendations.sort_values('Ranking')\n",
        "\n",
        "    return movie_recommendations[['Ranking', 'title']]\n",
        "\n",
        "movie_recommendations = recommend_movies(\"Jurassic Park (1993)\", num=5)\n",
        "print(movie_recommendations)\n"
      ]
    },
    {
      "cell_type": "markdown",
      "metadata": {
        "id": "YhZXLz7Rh_VC"
      },
      "source": [
        "## **Part 3: Graph-Based Recommender (Pixie-Inspired Algorithm)**"
      ]
    },
    {
      "cell_type": "markdown",
      "metadata": {
        "id": "u_YceL18lWlN"
      },
      "source": [
        "### **Adjacency List**"
      ]
    },
    {
      "cell_type": "markdown",
      "metadata": {
        "id": "CFF1tUDsipIX"
      },
      "source": [
        "#### **Objective**\n",
        "In this task, you will preprocess the Movie dataset and construct a **graph representation** where:\n",
        "- **Users** are connected to the movies they have rated.\n",
        "- **Movies** are connected to users who have rated them.\n",
        "  \n",
        "This graph structure will help in exploring **user-movie relationships** for recommendations."
      ]
    },
    {
      "cell_type": "markdown",
      "metadata": {
        "id": "-3OPInjhkUzy"
      },
      "source": [
        "#### **Step 1: Merge Ratings with Movie Titles**\n",
        "Since we have **movie IDs** in the ratings dataset but need human-readable movie titles, we will:\n",
        "1. Merge the `ratings` DataFrame with the `movies` DataFrame using the `'movie_id'` column.\n",
        "2. This allows each rating to be associated with a **movie title**.\n",
        "\n",
        "#### **Hint:**\n",
        "Use the following Pandas operation to merge:\n",
        "```python\n",
        "ratings = ratings.merge(movies, on='movie_id')\n",
        "```"
      ]
    },
    {
      "cell_type": "markdown",
      "metadata": {
        "id": "3OPUXyNVkfHr"
      },
      "source": [
        "\n",
        "#### **Step 2: Aggregate Ratings**\n",
        "Since multiple users may rate the same movie multiple times, we:\n",
        "1. Group the dataset by `['user_id', 'movie_id', 'title']`.\n",
        "2. Compute the **mean rating** for each movie by each user.\n",
        "3. Reset the index to ensure we maintain a clean DataFrame structure.\n",
        "\n",
        "#### **Hint:**  \n",
        "Use `groupby()` and `mean()` as follows:\n",
        "```python\n",
        "ratings = ratings.groupby(['user_id', 'movie_id', 'title'])['rating'].mean().reset_index()\n",
        "```"
      ]
    },
    {
      "cell_type": "markdown",
      "metadata": {
        "id": "NU1fB66WkqEO"
      },
      "source": [
        "#### **Step 3: Normalize Ratings**\n",
        "Since different users have different rating biases, we normalize ratings by:\n",
        "1. **Computing each user's mean rating**.\n",
        "2. **Subtracting the mean rating** from each individual rating.\n",
        "\n",
        "#### **Instructions:**\n",
        "- Use `groupby('user_id')` to group ratings by users.\n",
        "- Apply `transform(lambda x: x - x.mean())` to adjust ratings.\n",
        "\n",
        "#### **Hint:**  \n",
        "Normalize ratings using:\n",
        "```python\n",
        "ratings['rating'] = ratings.groupby('user_id')['rating'].transform(lambda x: x - x.mean())\n",
        "```\n",
        "This ensures each user’s ratings are centered around zero, making similarity calculations fairer."
      ]
    },
    {
      "cell_type": "markdown",
      "metadata": {
        "id": "79NB8zIWkvWP"
      },
      "source": [
        "#### **Step 4: Construct the Graph Representation**\n",
        "We represent the user-movie interactions as an **undirected graph** using an **adjacency list**:\n",
        "- Each **user** is a node connected to movies they rated.\n",
        "- Each **movie** is a node connected to users who rated it.\n",
        "\n",
        "#### **Graph Construction Steps:**\n",
        "1. Initialize an empty dictionary `graph = {}`.\n",
        "2. Iterate through the **ratings dataset**.\n",
        "3. For each `user_id` and `movie_id` pair:\n",
        "   - Add the movie to the user’s set of connections.\n",
        "   - Add the user to the movie’s set of connections.\n",
        "\n",
        "#### **Hint:**  \n",
        "The following code builds the graph:\n",
        "\n",
        "```python\n",
        "graph = {}\n",
        "for _, row in ratings.iterrows():\n",
        "    user, movie = row['user_id'], row['movie_id']\n",
        "    if user not in graph:\n",
        "        graph[user] = set()\n",
        "    if movie not in graph:\n",
        "        graph[movie] = set()\n",
        "    graph[user].add(movie)\n",
        "    graph[movie].add(user)\n",
        "```\n",
        "\n",
        "This results in a **bipartite graph**, where:\n",
        "- **Users** are connected to multiple movies.\n",
        "- **Movies** are connected to multiple users."
      ]
    },
    {
      "cell_type": "markdown",
      "metadata": {
        "id": "wEuVgjAAk4KV"
      },
      "source": [
        "#### **Step 5: Understanding the Graph**\n",
        "- **Nodes** in the graph represent **users and movies**.\n",
        "- **Edges** exist between a user and a movie **if the user has rated the movie**.\n",
        "- This structure allows us to find **users with similar movie tastes** and **movies frequently watched together**.\n",
        "\n",
        "#### **Exploring the Graph**\n",
        "- **Find a user’s rated movies:**  \n",
        "  ```python\n",
        "  user_id = 1\n",
        "  print(graph[user_id])  # Movies rated by user 1\n",
        "  ```\n",
        "\n",
        "- **Find users who rated a movie:**  \n",
        "  ```python\n",
        "  movie_id = 50\n",
        "  print(graph[movie_id])  # Users who rated movie 50\n",
        "  ```"
      ]
    },
    {
      "cell_type": "code",
      "execution_count": 80,
      "metadata": {
        "id": "b4V2aL4DiMM4"
      },
      "outputs": [
        {
          "name": "stdout",
          "output_type": "stream",
          "text": [
            "{1, 514, 7, 10, 11, 12, 13, 524, 527, 16, 18, 19, 532, 533, 22, 535, 537, 538, 543, 551, 554, 43, 559, 49, 50, 561, 562, 59, 62, 64, 577, 579, 77, 591, 592, 593, 83, 84, 87, 600, 92, 94, 608, 99, 102, 618, 109, 621, 622, 625, 115, 627, 629, 638, 640, 130, 642, 643, 645, 648, 650, 653, 654, 655, 144, 659, 151, 664, 666, 158, 671, 160, 682, 690, 189, 194, 707, 197, 198, 709, 712, 201, 715, 716, 207, 210, 216, 218, 219, 221, 222, 738, 232, 233, 234, 747, 748, 749, 757, 758, 249, 763, 764, 253, 256, 258, 771, 260, 774, 264, 268, 780, 271, 786, 276, 788, 790, 279, 280, 795, 796, 286, 287, 288, 291, 804, 293, 294, 295, 805, 297, 299, 300, 301, 303, 308, 823, 312, 826, 315, 318, 320, 833, 324, 326, 327, 328, 329, 334, 846, 336, 339, 851, 342, 343, 344, 345, 346, 347, 854, 860, 352, 864, 354, 356, 357, 358, 359, 360, 361, 362, 363, 870, 871, 875, 880, 881, 882, 883, 373, 374, 886, 889, 378, 379, 896, 385, 387, 389, 903, 393, 394, 398, 913, 916, 405, 406, 407, 919, 411, 412, 416, 417, 421, 933, 934, 425, 940, 429, 435, 450, 453, 455, 456, 457, 466, 468, 472, 474, 476, 481, 484, 487, 495, 497, 504}\n",
            "{256, 1, 1026, 261, 393, 268, 269, 655, 405, 796, 288, 289, 416, 293, 682, 307, 310, 184, 314, 319, 201, 333, 846, 339, 477, 358, 873, 875, 748, 878, 882, 883, 885}\n"
          ]
        }
      ],
      "source": [
        "# Code the function here\n",
        "# Step 1\n",
        "ratings_merged = ratings_cleaned.merge(movies_cleaned, on='movie_id')\n",
        "\n",
        "# Step 2\n",
        "new_ratings = ratings_merged.groupby(['user_id', 'movie_id', 'title'])['rating'].mean().reset_index()\n",
        "\n",
        "# Step 3\n",
        "new_ratings['rating'] = new_ratings.groupby('user_id')['rating'].transform(lambda x: x - x.mean())\n",
        "\n",
        "# Step 4\n",
        "graph = {}\n",
        "for _, row in new_ratings.iterrows():\n",
        "    user, movie = row['user_id'], row['movie_id']\n",
        "    if user not in graph:\n",
        "        graph[user] = set()\n",
        "    if movie not in graph:\n",
        "        graph[movie] = set()\n",
        "    graph[user].add(movie)\n",
        "    graph[movie].add(user)\n",
        "\n",
        "user_id = 4\n",
        "print(graph[user_id])\n",
        "\n",
        "movie_id = 36\n",
        "print(graph[movie_id])"
      ]
    },
    {
      "cell_type": "markdown",
      "metadata": {
        "id": "_ZE31gB7lImI"
      },
      "source": [
        "### **Implement Weighted Random Walks**"
      ]
    },
    {
      "cell_type": "markdown",
      "metadata": {
        "id": "yHe42rlJl9kD"
      },
      "source": [
        "#### **Random Walk-Based Movie Recommendation System (Weighted Pixie)**"
      ]
    },
    {
      "cell_type": "markdown",
      "metadata": {
        "id": "jyqptwreo-IP"
      },
      "source": [
        "#### **Objective**\n",
        "In this task, you will implement a **random-walk-based recommendation algorithm** using the **Weighted Pixie** method. This technique uses a **user-movie bipartite graph** to recommend movies by simulating a random walk from a given user or movie."
      ]
    },
    {
      "cell_type": "markdown",
      "metadata": {
        "id": "jFgyzzdCpfzu"
      },
      "source": [
        "#### **Step 1: Import Required Libraries**\n",
        "Make sure you have the necessary libraries:\n",
        "\n",
        "```python\n",
        "import random  # For random walks\n",
        "import pandas as pd  # For handling data\n",
        "```"
      ]
    },
    {
      "cell_type": "markdown",
      "metadata": {
        "id": "_FVGjhl0ppFK"
      },
      "source": [
        "#### **Step 2: Implement the Random Walk Algorithm**\n",
        "Your task is to **simulate a random walk** from a given starting point in the **bipartite user-movie graph**.\n",
        "\n",
        "##### **Hints for Implementation**\n",
        "- Start from **either a user or a movie**.\n",
        "- At each step, **randomly move** to a connected node.\n",
        "- Keep track of **how many times each movie is visited**.\n",
        "- After completing the walk, **rank movies by visit count**."
      ]
    },
    {
      "cell_type": "markdown",
      "metadata": {
        "id": "E7D7Pj6trss9"
      },
      "source": [
        "#### **Step 3: Implement User-Based Recommendation**\n",
        "**Hints:**\n",
        "- Check if the `user_id` exists in the `graph`.\n",
        "- Start a loop that runs for `walk_length` steps.\n",
        "- Randomly pick a **connected node** (user or movie).\n",
        "- Track how many times each **movie** is visited.\n",
        "- Sort movies by visit frequency and return the **top N**.\n",
        "\n",
        "#### **Step 4: Implement Movie-Based Recommendation**\n",
        "**Hints:**\n",
        "- Find the `movie_id` corresponding to the given `movie_name`.\n",
        "- Ensure the movie exists in the `graph`.\n",
        "- Start a random walk from that movie.\n",
        "- Follow the same **tracking and ranking** process as the user-based version.\n",
        "\n",
        "**Note:**  \n",
        "**Your task:** Implement a function `weighted_pixie_recommend(user_id, walk_length=15, num=5)` or `weighted_pixie_recommend(movie_name, walk_length=15, num=5)`.  \n",
        "**Implement either Step 3 or Step 4.**"
      ]
    },
    {
      "cell_type": "markdown",
      "metadata": {
        "id": "qxN_ibCCrCpx"
      },
      "source": [
        "#### **Step 5: Running Your Recommendation System**\n",
        "Once your function is implemented, test it by calling:\n",
        "\n",
        "##### **Example: User-Based Recommendation**\n",
        "```python\n",
        "weighted_pixie_recommend(1, walk_length=15, num=5)\n",
        "```\n",
        "| Ranking | Movie Name                     |\n",
        "|---------|--------------------------------|\n",
        "| 1       | My Own Private Idaho (1991)   |\n",
        "| 2       | Aladdin (1992)                |\n",
        "| 3       | 12 Angry Men (1957)           |\n",
        "| 4       | Happy Gilmore (1996)          |\n",
        "| 5       | Copycat (1995)                |\n",
        "\n",
        "\n",
        "##### **Example: Movie-Based Recommendation**\n",
        "```python\n",
        "weighted_pixie_recommend(\"Jurassic Park (1993)\", walk_length=10, num=5)\n",
        "```\n",
        "| Ranking | Movie Name                           |\n",
        "|---------|-------------------------------------|\n",
        "| 1       | Rear Window (1954)                 |\n",
        "| 2       | Great Dictator, The (1940)         |\n",
        "| 3       | Field of Dreams (1989)             |\n",
        "| 4       | Casablanca (1942)                  |\n",
        "| 5       | Nightmare Before Christmas, The (1993) |\n"
      ]
    },
    {
      "cell_type": "markdown",
      "metadata": {
        "id": "ZpUH9IzVr5aQ"
      },
      "source": [
        "#### **Step 6: Understanding the Results**\n",
        "Your function should return a **DataFrame** structured as follows:\n",
        "\n",
        "| Ranking | Movie Name |\n",
        "|---------|-----------|\n",
        "| 1       | Movie A   |\n",
        "| 2       | Movie B   |\n",
        "| 3       | Movie C   |\n",
        "| 4       | Movie D   |\n",
        "| 5       | Movie E   |\n",
        "\n",
        "Each movie is ranked based on **how frequently it was visited** during the walk.\n",
        "\n",
        "#### **Experiment with Different Parameters**\n",
        "- Try different **`walk_length`** values and observe how it changes recommendations.\n",
        "- Adjust the number of recommended movies (`num`)."
      ]
    },
    {
      "cell_type": "code",
      "execution_count": 96,
      "metadata": {
        "id": "tZD5fjG-lx3b"
      },
      "outputs": [
        {
          "name": "stdout",
          "output_type": "stream",
          "text": [
            "   Ranking                                title  visit_count\n",
            "0        1              Immortal Beloved (1994)            2\n",
            "1        2                  Dante's Peak (1997)            1\n",
            "2        3                     Liar Liar (1997)            1\n",
            "3        4  Man Who Knew Too Little, The (1997)            1\n",
            "4        5                        Target (1995)            1\n"
          ]
        }
      ],
      "source": [
        "# Code the function here\n",
        "import random  # For random walks\n",
        "import pandas as pd  # For handling data\n",
        "\n",
        "def weighted_pixie_recommend(user_id, walk_length=15, num=5):\n",
        "    if user_id not in ratings_cleaned['user_id'].values:\n",
        "        return f\"User '{user_id}' not found.\"\n",
        "    \n",
        "    # User based recommendation\n",
        "    user_to_movies = ratings_cleaned.groupby('user_id')['movie_id'].apply(list).to_dict()\n",
        "    movie_to_users = ratings_cleaned.groupby('movie_id')['user_id'].apply(list).to_dict()\n",
        "    \n",
        "    # Random walk algorithm\n",
        "    current_node = user_id\n",
        "    movies_visited = {}\n",
        "    for _ in range(walk_length):\n",
        "        if current_node in user_to_movies:\n",
        "            neighbors = user_to_movies.get(current_node, [])\n",
        "        else:\n",
        "            neighbors = movie_to_users.get(current_node, [])\n",
        "        if not neighbors:\n",
        "            break\n",
        "        next_node = random.choice(neighbors)\n",
        "        if next_node in movie_to_users:\n",
        "            movies_visited[next_node] = movies_visited.get(next_node, 0) + 1\n",
        "        current_node = next_node\n",
        "\n",
        "    # Sort movies by visit frequency\n",
        "    sorted_movies = sorted(movies_visited.items(), key=lambda x: x[1], reverse=True)[:num]\n",
        "    recommend = pd.DataFrame(sorted_movies, columns=['movie_id', 'visit_count'])\n",
        "    recommend = recommend.merge(movies_cleaned, on='movie_id')\n",
        "    recommend['Ranking'] = recommend['visit_count'].rank(method='first', ascending=False).astype(int)\n",
        "    recommend = recommend.sort_values('Ranking')\n",
        "\n",
        "    return recommend[['Ranking', 'title', 'visit_count']]\n",
        "\n",
        "recommend = weighted_pixie_recommend(3, 15, 5)\n",
        "print(recommend)"
      ]
    },
    {
      "cell_type": "markdown",
      "metadata": {
        "id": "Q36Y2C7PxWO0"
      },
      "source": [
        "---"
      ]
    },
    {
      "cell_type": "markdown",
      "metadata": {
        "id": "9iKlQlvBtiGe"
      },
      "source": [
        "## **Submission Requirements:**"
      ]
    },
    {
      "cell_type": "markdown",
      "metadata": {
        "id": "NHGGedZexPs0"
      },
      "source": [
        "To successfully complete this assignment, ensure that you submit the following:\n",
        "\n",
        "\n",
        "### **1. Jupyter Notebook Submission**\n",
        "- Submit a **fully completed Jupyter Notebook** that includes:\n",
        "  - **All implemented recommendation functions** (user-based, item-based, and random walk-based recommendations).\n",
        "  - **Code explanations** in markdown cells to describe each step.\n",
        "  - **Results and insights** from running your recommendation models.\n",
        "\n",
        "\n",
        "### **2. Explanation of Pixie-Inspired Algorithms (3-5 Paragraphs)**\n",
        "- Write a **detailed explanation** of **Pixie-inspired random walk algorithms** used for recommendations.\n",
        "- Your explanation should cover:\n",
        "  - What **Pixie-inspired recommendation systems** are.\n",
        "  - How **random walks** help in identifying relevant recommendations.\n",
        "  - Any real-world applications of such algorithms in industry.\n",
        "\n",
        "\n",
        "### **3. Report for the Submitted Notebook**\n",
        "Your report should be structured as follows:\n",
        "\n",
        "#### **Title: Movie Recommendation System Report**\n",
        "\n",
        "#### **1. Introduction**\n",
        "- Briefly introduce **movie recommendation systems** and why they are important.\n",
        "- Explain the **different approaches used** (user-based, item-based, random-walk).\n",
        "\n",
        "#### **2. Dataset Description**\n",
        "- Describe the **MovieLens 100K dataset**:\n",
        "  - Number of users, movies, and ratings.\n",
        "  - What features were used.\n",
        "  - Any preprocessing performed.\n",
        "\n",
        "#### **3. Methodology**\n",
        "- Explain the three recommendation techniques implemented:\n",
        "  - **User-based collaborative filtering** (how user similarity was calculated).\n",
        "  - **Item-based collaborative filtering** (how item similarity was determined).\n",
        "  - **Random-walk-based Pixie algorithm** (why graph-based approaches are effective).\n",
        "  \n",
        "#### **4. Implementation Details**\n",
        "- Discuss the steps taken to build the functions.\n",
        "- Describe how the **adjacency list graph** was created.\n",
        "- Explain how **random walks** were performed and how visited movies were ranked.\n",
        "\n",
        "#### **5. Results and Evaluation**\n",
        "- Present **example outputs** from each recommendation approach.\n",
        "- Compare the different methods in terms of accuracy and usefulness.\n",
        "- Discuss any **limitations** in the implementation.\n",
        "\n",
        "#### **6. Conclusion**\n",
        "- Summarize the key takeaways from the project.\n",
        "- Discuss potential improvements (e.g., **hybrid models, additional features**).\n",
        "- Suggest real-world applications of the methods used."
      ]
    },
    {
      "cell_type": "markdown",
      "metadata": {
        "id": "NWgT_Shy-vUK"
      },
      "source": [
        "### **Submission Instructions**"
      ]
    },
    {
      "cell_type": "markdown",
      "metadata": {
        "id": "Nuz1s-Vh_L55"
      },
      "source": [
        "- Submit `.zip` file consisting of Jupyter Notebook and all the datafiles (provided) and the ones saved [i.e. `users.csv`, `movies.csv` and `ratings.csv`]. Also, include the Report and Pixie Algorithm explanation document.\n",
        "- [`Bonus 10 Points`] **Upload your Jupyter Notebook, Explanation Document, and Report** to your GitHub repository.\n",
        "- Ensure the repository is public and contains:\n",
        "  - `users.csv`, `movies.csv` and `ratings.csv` [These are the Dataframes which were created in part 1. Save and export them as a `.csv` file]\n",
        "  - `Movie_Recommendation.ipynb`\n",
        "  - `Pixie_Algorithm_Explanation.pdf` or `.md`\n",
        "  - `Recommendation_Report.pdf` or `.md`\n",
        "- **Submit the GitHub repository link in the cell below.**\n",
        "\n",
        "\n",
        "#### **Example Submission Format**\n",
        "```text\n",
        "GitHub Repository: https://github.com/username/Movie-Recommendation\n",
        "```"
      ]
    },
    {
      "cell_type": "code",
      "execution_count": null,
      "metadata": {
        "id": "jol9nRDau6fZ"
      },
      "outputs": [],
      "source": [
        "# Submit the Github Link here:\n"
      ]
    },
    {
      "cell_type": "markdown",
      "metadata": {
        "id": "oQ6aluK-0ZMa"
      },
      "source": [
        "### **Grading Rubric: ITCS 6162 - Data Mining Assignment**"
      ]
    },
    {
      "cell_type": "markdown",
      "metadata": {
        "id": "sNAfeIzA_fCq"
      },
      "source": [
        "\n",
        "| **Category**                              | **Criteria**                                                     | **Points** |\n",
        "|-------------------------------------------|----------------------------------------------------------------|------------|\n",
        "| **Part 1: Exploring and Cleaning Data (15 pts)**  | Properly loads `u.user`, `u.movies`, and `u.item` datasets into DataFrames | 5 |\n",
        "|                                           | Handles missing values, duplicates, and inconsistencies appropriately | 5 |\n",
        "|                                           | Saves the cleaned datasets into CSV files: `users.csv`, `movies.csv`, `ratings.csv` | 5 |\n",
        "| **Part 2: Collaborative Filtering-Based Recommendation (30 pts)** | Implements user-based collaborative filtering correctly | 10 |\n",
        "|                                           | Implements item-based collaborative filtering correctly | 10 |\n",
        "|                                           | Computes similarity measures accurately and provides valid recommendations | 10 |\n",
        "| **Part 3: Graph-Based Recommender (Pixie-Inspired Algorithm) (35 pts)** | Constructs adjacency lists properly from user-movie interactions | 10 |\n",
        "|                                           | Implements weighted random walk-based recommendation correctly | 15 |\n",
        "|                                           | Explains and justifies the algorithm design choices (Pixie-inspired) | 10 |\n",
        "| **Code Quality & Documentation (10 pts)** | Code is well-structured, efficient, and follows best practices | 5 |\n",
        "|                                           | Markdown explanations and comments are clear and enhance understanding | 5 |\n",
        "| **Results & Interpretation (5 pts)**      | Provides meaningful insights from the recommendation system's output | 5 |\n",
        "| **Submission & Report (5 pts)**          | Submits all required files in the correct format (ZIP file with Jupyter notebook, processed CSV files, and project report) | 5 |\n",
        "| **Total**                                 |                              | 100 |\n",
        "\n",
        "#### **Bonus (10 pts)**\n",
        "| **Category**                              | **Criteria**                                                     | **Points** |\n",
        "|-------------------------------------------|----------------------------------------------------------------|------------|\n",
        "| **GitHub Submission**                     | Provides a well-documented GitHub repository with CSV files, a structured README, and a properly formatted Jupyter Notebook | 10 |"
      ]
    }
  ],
  "metadata": {
    "colab": {
      "collapsed_sections": [
        "NjxACjUgFwsk",
        "AyeSaLpRGYuC",
        "fOXp00QSbtHk",
        "MIN3XqC0eUAu",
        "u_YceL18lWlN",
        "_ZE31gB7lImI",
        "Nuz1s-Vh_L55"
      ],
      "provenance": []
    },
    "kernelspec": {
      "display_name": "base",
      "language": "python",
      "name": "python3"
    },
    "language_info": {
      "codemirror_mode": {
        "name": "ipython",
        "version": 3
      },
      "file_extension": ".py",
      "mimetype": "text/x-python",
      "name": "python",
      "nbconvert_exporter": "python",
      "pygments_lexer": "ipython3",
      "version": "3.9.13"
    }
  },
  "nbformat": 4,
  "nbformat_minor": 0
}
